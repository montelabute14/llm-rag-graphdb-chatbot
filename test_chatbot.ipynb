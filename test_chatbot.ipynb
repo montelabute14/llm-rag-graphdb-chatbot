{
 "cells": [
  {
   "cell_type": "markdown",
   "id": "7e7b7676-98ae-40c8-a2fb-3b7bd5b28a54",
   "metadata": {},
   "source": [
    "# REPL Test 1"
   ]
  },
  {
   "cell_type": "markdown",
   "id": "ba9dce81-a720-487f-949f-2290a3fcaf0f",
   "metadata": {},
   "source": [
    "from langchain_intro.chatbot import review_chain"
   ]
  },
  {
   "cell_type": "code",
   "execution_count": 2,
   "id": "8aa523b2-beba-4f11-9cae-e8becd1a9d15",
   "metadata": {},
   "outputs": [],
   "source": [
    "question = \"\"\"Has anyone complained about communication with the hospital staff?\"\"\""
   ]
  },
  {
   "cell_type": "code",
   "execution_count": 3,
   "id": "1756bee8-eb38-4fc4-9530-365f2be785ce",
   "metadata": {},
   "outputs": [
    {
     "data": {
      "text/plain": [
       "'Yes, several patients have complained about communication with the hospital staff. Terri Smith mentioned that the communication between the medical staff and her was unclear, leading to misunderstandings about her treatment plan. Ryan Jacobs also noted that the lack of communication from the staff created frustration during his stay. Kurt Gordon expressed feeling frustrated and confused about his treatment plan due to the lack of communication between the staff and himself. Shannon Williams mentioned that the lack of communication between the staff and herself made her stay less enjoyable.'"
      ]
     },
     "execution_count": 3,
     "metadata": {},
     "output_type": "execute_result"
    }
   ],
   "source": [
    "review_chain.invoke(question)"
   ]
  },
  {
   "cell_type": "markdown",
   "id": "51d0d9bd-a310-4f16-99b3-83aced3504d9",
   "metadata": {},
   "source": [
    "# REPL Test 2"
   ]
  },
  {
   "cell_type": "code",
   "execution_count": 1,
   "id": "78743fde-2cd6-4797-9970-814cef467f13",
   "metadata": {},
   "outputs": [],
   "source": [
    "from langchain_intro.chatbot import hospital_agent_executor"
   ]
  },
  {
   "cell_type": "code",
   "execution_count": 2,
   "id": "8ccead32-767a-41f1-8e1f-a2411a8e3b4f",
   "metadata": {},
   "outputs": [
    {
     "name": "stdout",
     "output_type": "stream",
     "text": [
      "\n",
      "\n",
      "\u001b[1m> Entering new AgentExecutor chain...\u001b[0m\n",
      "\u001b[32;1m\u001b[1;3m\n",
      "Invoking: `Waits` with `C`\n",
      "\n",
      "\n",
      "\u001b[0m\u001b[33;1m\u001b[1;3m2703\u001b[0m\u001b[32;1m\u001b[1;3mThe current wait time at hospital C is 2703 minutes.\u001b[0m\n",
      "\n",
      "\u001b[1m> Finished chain.\u001b[0m\n"
     ]
    },
    {
     "data": {
      "text/plain": [
       "{'input': 'What is the current wait time at hospital C?',\n",
       " 'output': 'The current wait time at hospital C is 2703 minutes.',\n",
       " 'intermediate_steps': [(AgentActionMessageLog(tool='Waits', tool_input='C', log='\\nInvoking: `Waits` with `C`\\n\\n\\n', message_log=[AIMessage(content='', additional_kwargs={'function_call': {'arguments': '{\"__arg1\":\"C\"}', 'name': 'Waits'}})]),\n",
       "   2703)]}"
      ]
     },
     "execution_count": 2,
     "metadata": {},
     "output_type": "execute_result"
    }
   ],
   "source": [
    "hospital_agent_executor.invoke(\n",
    "    {\"input\": \"What is the current wait time at hospital C?\"}\n",
    ")"
   ]
  },
  {
   "cell_type": "code",
   "execution_count": 4,
   "id": "9305eb61-f788-49ee-b938-c1c0f8432a8a",
   "metadata": {},
   "outputs": [
    {
     "name": "stdout",
     "output_type": "stream",
     "text": [
      "\n",
      "\n",
      "\u001b[1m> Entering new AgentExecutor chain...\u001b[0m\n",
      "\u001b[32;1m\u001b[1;3m\n",
      "Invoking: `Reviews` with `What have patients said about their comfort at the hospital?`\n",
      "\n",
      "\n",
      "\u001b[0m\u001b[36;1m\u001b[1;3mPatients have mentioned that the hospital's dedication to patient comfort was evident in well-designed private rooms and comfortable furnishings. However, some patients have also noted that uncomfortable beds affected their overall comfort during their stay.\u001b[0m\u001b[32;1m\u001b[1;3mPatients have mentioned that the hospital's dedication to patient comfort was evident in well-designed private rooms and comfortable furnishings. However, some patients have also noted that uncomfortable beds affected their overall comfort during their stay.\u001b[0m\n",
      "\n",
      "\u001b[1m> Finished chain.\u001b[0m\n"
     ]
    },
    {
     "data": {
      "text/plain": [
       "{'input': 'What have patients said about their comfort at the hospital?',\n",
       " 'output': \"Patients have mentioned that the hospital's dedication to patient comfort was evident in well-designed private rooms and comfortable furnishings. However, some patients have also noted that uncomfortable beds affected their overall comfort during their stay.\",\n",
       " 'intermediate_steps': [(AgentActionMessageLog(tool='Reviews', tool_input='What have patients said about their comfort at the hospital?', log='\\nInvoking: `Reviews` with `What have patients said about their comfort at the hospital?`\\n\\n\\n', message_log=[AIMessage(content='', additional_kwargs={'function_call': {'arguments': '{\"__arg1\":\"What have patients said about their comfort at the hospital?\"}', 'name': 'Reviews'}})]),\n",
       "   \"Patients have mentioned that the hospital's dedication to patient comfort was evident in well-designed private rooms and comfortable furnishings. However, some patients have also noted that uncomfortable beds affected their overall comfort during their stay.\")]}"
      ]
     },
     "execution_count": 4,
     "metadata": {},
     "output_type": "execute_result"
    }
   ],
   "source": [
    "hospital_agent_executor.invoke(\n",
    "    {\"input\": \"What have patients said about their comfort at the hospital?\"}\n",
    ")"
   ]
  },
  {
   "cell_type": "code",
   "execution_count": null,
   "id": "317432a5-9c3f-411e-9095-e3e38d185a66",
   "metadata": {},
   "outputs": [],
   "source": [
    "\""
   ]
  }
 ],
 "metadata": {
  "kernelspec": {
   "display_name": "Python 3 (ipykernel)",
   "language": "python",
   "name": "python3"
  },
  "language_info": {
   "codemirror_mode": {
    "name": "ipython",
    "version": 3
   },
   "file_extension": ".py",
   "mimetype": "text/x-python",
   "name": "python",
   "nbconvert_exporter": "python",
   "pygments_lexer": "ipython3",
   "version": "3.12.4"
  }
 },
 "nbformat": 4,
 "nbformat_minor": 5
}
