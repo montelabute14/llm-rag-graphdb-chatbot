{
 "cells": [
  {
   "cell_type": "markdown",
   "id": "6d28e07b-2940-40ee-990c-ccab54012b15",
   "metadata": {},
   "source": [
    "# LLM RAG Chatbot Prototype"
   ]
  },
  {
   "cell_type": "markdown",
   "id": "f880286b-eced-478e-a4fb-d0bfc6c2650c",
   "metadata": {},
   "source": [
    "## Import packages"
   ]
  },
  {
   "cell_type": "code",
   "execution_count": 1,
   "id": "83567308-5723-43b3-b440-8e6e7534c9fd",
   "metadata": {},
   "outputs": [],
   "source": [
    "#!pip install langchain==0.1.0"
   ]
  },
  {
   "cell_type": "code",
   "execution_count": 2,
   "id": "9633386d-1aef-4693-bf63-a55fa2d61629",
   "metadata": {},
   "outputs": [],
   "source": [
    "#!pip install openai==1.7.2"
   ]
  },
  {
   "cell_type": "code",
   "execution_count": 3,
   "id": "36740c86-1f3c-4ae1-a8a6-be655b6f7218",
   "metadata": {},
   "outputs": [],
   "source": [
    "#!pip install langchain-openai==0.0.2"
   ]
  },
  {
   "cell_type": "code",
   "execution_count": 4,
   "id": "54fb05f1-c221-4e51-9b1b-75d9c660f619",
   "metadata": {},
   "outputs": [],
   "source": [
    "#!pip install langchain-community==0.0.12"
   ]
  },
  {
   "cell_type": "code",
   "execution_count": 5,
   "id": "4c6c41a6-374e-436d-b825-aed4320d6686",
   "metadata": {},
   "outputs": [],
   "source": [
    "#!pip install langchainhub==0.1.14"
   ]
  },
  {
   "cell_type": "code",
   "execution_count": 6,
   "id": "e03ccdc6-f8da-45cd-9461-cb82c4d82fac",
   "metadata": {},
   "outputs": [],
   "source": [
    "#!pip install python-dotenv"
   ]
  },
  {
   "cell_type": "code",
   "execution_count": 7,
   "id": "049c7a51-1198-45e2-84f8-1cf49c69b1b6",
   "metadata": {},
   "outputs": [],
   "source": [
    "#!pip install chromadb==0.4.22"
   ]
  },
  {
   "cell_type": "markdown",
   "id": "d3aa666c-0b96-4d2c-80ff-22af5cb52370",
   "metadata": {},
   "source": [
    "## langchain_intro/chatbot.py"
   ]
  },
  {
   "cell_type": "markdown",
   "id": "9613c1d4-1ccd-4680-a30a-00b72902301e",
   "metadata": {},
   "source": [
    "### Chat Models"
   ]
  },
  {
   "cell_type": "code",
   "execution_count": 8,
   "id": "f457bbb9-95e9-42d8-b5d6-ca7801b47ee0",
   "metadata": {},
   "outputs": [],
   "source": [
    "import dotenv"
   ]
  },
  {
   "cell_type": "code",
   "execution_count": 9,
   "id": "790753ad-486f-4f23-930d-bbd803032884",
   "metadata": {},
   "outputs": [],
   "source": [
    "from langchain_openai import ChatOpenAI"
   ]
  },
  {
   "cell_type": "code",
   "execution_count": 10,
   "id": "84d06a63-aa60-4fe1-9562-3387bf937173",
   "metadata": {},
   "outputs": [
    {
     "data": {
      "text/plain": [
       "True"
      ]
     },
     "execution_count": 10,
     "metadata": {},
     "output_type": "execute_result"
    }
   ],
   "source": [
    "dotenv.load_dotenv()"
   ]
  },
  {
   "cell_type": "code",
   "execution_count": 11,
   "id": "7a78881d-1f13-4b20-9de2-8726f17878e9",
   "metadata": {},
   "outputs": [],
   "source": [
    "chat_model = ChatOpenAI(model=\"gpt-3.5-turbo-0125\", temperature=0)"
   ]
  },
  {
   "cell_type": "code",
   "execution_count": 12,
   "id": "5bc9a6e3-44c5-40c0-ae22-292a305cdf6e",
   "metadata": {},
   "outputs": [],
   "source": [
    "# To use 'chat_model'\n",
    "from langchain.schema.messages import HumanMessage, SystemMessage\n",
    "#from langchain_intro.chatbot import chat_model"
   ]
  },
  {
   "cell_type": "code",
   "execution_count": 13,
   "id": "d5ac9c65-7f26-4d21-b6f9-1aa2a9e690d6",
   "metadata": {},
   "outputs": [],
   "source": [
    "messages = [\n",
    "    SystemMessage(\n",
    "        content=\"\"\"You're an assitant knowledgeable about healthcare. Only answer healthcare-related questions.\"\"\"\n",
    "    ),\n",
    "    HumanMessage(content=\"What is Medicaid managed care?\"),\n",
    "]"
   ]
  },
  {
   "cell_type": "code",
   "execution_count": 14,
   "id": "f79af260-caed-4988-8c7c-c5955a1eafe8",
   "metadata": {},
   "outputs": [
    {
     "data": {
      "text/plain": [
       "AIMessage(content='Medicaid managed care is a system in which states contract with managed care organizations (MCOs) to provide healthcare services to Medicaid beneficiaries. These MCOs are responsible for coordinating and delivering healthcare services to enrollees in exchange for a fixed monthly payment per enrollee. This model aims to improve care coordination, control costs, and enhance quality of care for Medicaid beneficiaries.')"
      ]
     },
     "execution_count": 14,
     "metadata": {},
     "output_type": "execute_result"
    }
   ],
   "source": [
    "chat_model.invoke(messages)"
   ]
  },
  {
   "cell_type": "code",
   "execution_count": 15,
   "id": "53a54f85-e798-440f-818a-da4db75cd888",
   "metadata": {},
   "outputs": [],
   "source": [
    "messages = [\n",
    "    SystemMessage(\n",
    "        content=\"\"\"You're an assitant knowledgeable about healthcare. Only answer healthcare-related questions.\"\"\"\n",
    "    ),\n",
    "    HumanMessage(content=\"How do I change a tire?\"),\n",
    "]"
   ]
  },
  {
   "cell_type": "code",
   "execution_count": 16,
   "id": "02095635-d5b8-4e24-9d78-b1ceef7a40cb",
   "metadata": {},
   "outputs": [
    {
     "data": {
      "text/plain": [
       "AIMessage(content=\"I'm here to help with healthcare-related questions. If you have any questions about health, wellness, or medical topics, feel free to ask!\")"
      ]
     },
     "execution_count": 16,
     "metadata": {},
     "output_type": "execute_result"
    }
   ],
   "source": [
    "chat_model.invoke(messages)"
   ]
  },
  {
   "cell_type": "code",
   "execution_count": 17,
   "id": "d511ca09-f51f-4fa8-8bd7-c9e9c5dced2a",
   "metadata": {},
   "outputs": [
    {
     "data": {
      "text/plain": [
       "AIMessage(content='Blood pressure is the force of blood pushing against the walls of the arteries as the heart pumps blood throughout the body. It is measured in millimeters of mercury (mmHg) and is typically expressed as two numbers, such as 120/80 mmHg. The first number (systolic pressure) represents the pressure in the arteries when the heart beats, while the second number (diastolic pressure) represents the pressure in the arteries when the heart is at rest between beats. High blood pressure, also known as hypertension, can increase the risk of heart disease, stroke, and other health problems.')"
      ]
     },
     "execution_count": 17,
     "metadata": {},
     "output_type": "execute_result"
    }
   ],
   "source": [
    "chat_model.invoke(\"What is blood pressure?\")"
   ]
  },
  {
   "cell_type": "markdown",
   "id": "c1519a7a-0569-4ac2-98e9-badf78771c36",
   "metadata": {},
   "source": [
    "### Prompt Templates"
   ]
  },
  {
   "cell_type": "code",
   "execution_count": 18,
   "id": "c3162309-4621-4e09-97b4-6e76838e4717",
   "metadata": {},
   "outputs": [],
   "source": [
    "from langchain.prompts import ChatPromptTemplate"
   ]
  },
  {
   "cell_type": "code",
   "execution_count": 19,
   "id": "07b23f62-fb28-44e8-8b73-bfee2f6d6905",
   "metadata": {},
   "outputs": [],
   "source": [
    "review_template_str = \"\"\"Your job is to use patient reviews to answer questions about their experience at a hospital. Use the following context to answer questions. \n",
    "Be as detailed as possible, but don't make up any information that's not from the context. If you don't know an answer, say you don't know.\n",
    "\n",
    "{context}\n",
    "\n",
    "{question}\n",
    "\"\"\""
   ]
  },
  {
   "cell_type": "code",
   "execution_count": 20,
   "id": "bd641ee8-0a67-4559-9ebe-a0bbb267a6e3",
   "metadata": {},
   "outputs": [],
   "source": [
    "review_template = ChatPromptTemplate.from_template(review_template_str)"
   ]
  },
  {
   "cell_type": "code",
   "execution_count": 21,
   "id": "82260012-7f6c-4214-ad3f-89d9073c8a1a",
   "metadata": {},
   "outputs": [
    {
     "data": {
      "text/plain": [
       "langchain_core.prompts.chat.ChatPromptTemplate"
      ]
     },
     "execution_count": 21,
     "metadata": {},
     "output_type": "execute_result"
    }
   ],
   "source": [
    "type(review_template)"
   ]
  },
  {
   "cell_type": "code",
   "execution_count": 22,
   "id": "a0602ffe-5533-4d2a-bd24-df6be4e9011d",
   "metadata": {},
   "outputs": [],
   "source": [
    "context = \"I had a great stay!\"\n",
    "question = \"Did anyone have a positive experience?\""
   ]
  },
  {
   "cell_type": "code",
   "execution_count": 23,
   "id": "6eec160c-df8b-4048-b764-06fdf640f88f",
   "metadata": {},
   "outputs": [
    {
     "data": {
      "text/plain": [
       "\"Human: Your job is to use patient reviews to answer questions about their experience at a hospital. Use the following context to answer questions. \\nBe as detailed as possible, but don't make up any information that's not from the context. If you don't know an answer, say you don't know.\\n\\nI had a great stay!\\n\\nDid anyone have a positive experience?\\n\""
      ]
     },
     "execution_count": 23,
     "metadata": {},
     "output_type": "execute_result"
    }
   ],
   "source": [
    "review_template.format(context=context, question=question)"
   ]
  },
  {
   "cell_type": "code",
   "execution_count": 24,
   "id": "4e968bcf-8e5f-48f7-b950-768872d6520a",
   "metadata": {},
   "outputs": [
    {
     "data": {
      "text/plain": [
       "str"
      ]
     },
     "execution_count": 24,
     "metadata": {},
     "output_type": "execute_result"
    }
   ],
   "source": [
    "type(review_template.format(context=context, question=question))"
   ]
  },
  {
   "cell_type": "code",
   "execution_count": 25,
   "id": "4ebcd926-0394-421b-a4af-644446f976ce",
   "metadata": {},
   "outputs": [],
   "source": [
    "from langchain.prompts import (\n",
    "    PromptTemplate,\n",
    "    SystemMessagePromptTemplate,\n",
    "    HumanMessagePromptTemplate,\n",
    "    ChatPromptTemplate,\n",
    ")"
   ]
  },
  {
   "cell_type": "code",
   "execution_count": 26,
   "id": "0df3f13e-6e9d-44c0-9869-e75fd07b4a0d",
   "metadata": {},
   "outputs": [],
   "source": [
    "review_system_template_str = \"\"\"Your job is to use patient\n",
    "reviews to answer questions about their experience at a hospital. Use the following context to answer questions.\n",
    "Be as detailed as possible, but don't make up any information that's not from the context. If you don't know an answer, say you don't know.\n",
    "\n",
    "{context}\n",
    "\"\"\""
   ]
  },
  {
   "cell_type": "code",
   "execution_count": 27,
   "id": "c5b26e6c-7ba6-4ccc-8d79-f88b4fe3c2d3",
   "metadata": {},
   "outputs": [],
   "source": [
    "review_system_prompt = SystemMessagePromptTemplate(\n",
    "    prompt=PromptTemplate(\n",
    "        input_variables=[\"context\"], template=review_system_template_str\n",
    "    )\n",
    ")"
   ]
  },
  {
   "cell_type": "code",
   "execution_count": 28,
   "id": "286cb61a-125d-481a-b822-53528f8f6e0b",
   "metadata": {},
   "outputs": [],
   "source": [
    "review_human_prompt = HumanMessagePromptTemplate(\n",
    "    prompt=PromptTemplate(\n",
    "        input_variables=[\"question\"], template=\"{question}\"\n",
    "    )\n",
    ")"
   ]
  },
  {
   "cell_type": "code",
   "execution_count": 29,
   "id": "a7153c68-3692-4c1b-b80f-d8d73a5d63fa",
   "metadata": {},
   "outputs": [],
   "source": [
    "messages = [review_system_prompt, review_human_prompt]"
   ]
  },
  {
   "cell_type": "code",
   "execution_count": 30,
   "id": "af56cc26-0f7d-4422-8012-716cf00b06f2",
   "metadata": {},
   "outputs": [],
   "source": [
    "review_prompt_template = ChatPromptTemplate(\n",
    "    input_variables=[\"context\", \"question\"],\n",
    "    messages=messages,\n",
    ")"
   ]
  },
  {
   "cell_type": "code",
   "execution_count": 31,
   "id": "a2fa9bc8-26b5-4891-ac80-ef63c8f662d9",
   "metadata": {},
   "outputs": [],
   "source": [
    "context = \"I had a great stay!\"\n",
    "question = \"Did anyone have a positive experience?\""
   ]
  },
  {
   "cell_type": "code",
   "execution_count": 32,
   "id": "d8f61eed-c039-4abc-9d23-ec5bbc403677",
   "metadata": {},
   "outputs": [
    {
     "data": {
      "text/plain": [
       "[SystemMessage(content=\"Your job is to use patient\\nreviews to answer questions about their experience at a hospital. Use the following context to answer questions.\\nBe as detailed as possible, but don't make up any information that's not from the context. If you don't know an answer, say you don't know.\\n\\nI had a great stay!\\n\"),\n",
       " HumanMessage(content='Did anyone have a positive experience?')]"
      ]
     },
     "execution_count": 32,
     "metadata": {},
     "output_type": "execute_result"
    }
   ],
   "source": [
    "review_prompt_template.format_messages(context=context, question=question)"
   ]
  },
  {
   "cell_type": "markdown",
   "id": "e691fc31-5ab3-43f7-b84e-32d9cd25fab9",
   "metadata": {},
   "source": [
    "### Chains and LangChain Expression Language (LCEL)"
   ]
  },
  {
   "cell_type": "markdown",
   "id": "691c9cd0-ecab-4e4a-bf2f-cd6679f102e2",
   "metadata": {},
   "source": [
    "How to combine chat models and prompt templates, build a chain using LCEL to unlock core functionality of building modular customized interfaces over chat models"
   ]
  },
  {
   "cell_type": "code",
   "execution_count": 33,
   "id": "0fb706d5-0e61-4fbf-8a97-e90a0fcc254e",
   "metadata": {},
   "outputs": [],
   "source": [
    "import dotenv"
   ]
  },
  {
   "cell_type": "code",
   "execution_count": 34,
   "id": "59eba2d9-efdf-4837-a659-9d1a494480a2",
   "metadata": {},
   "outputs": [],
   "source": [
    "from langchain_openai import ChatOpenAI"
   ]
  },
  {
   "cell_type": "code",
   "execution_count": 35,
   "id": "cb580446-340f-4809-b230-cba654fae40b",
   "metadata": {},
   "outputs": [],
   "source": [
    "from langchain.prompts import (\n",
    "    PromptTemplate,\n",
    "    SystemMessagePromptTemplate,\n",
    "    HumanMessagePromptTemplate,\n",
    "    ChatPromptTemplate,\n",
    ")"
   ]
  },
  {
   "cell_type": "code",
   "execution_count": 36,
   "id": "ca6ab155-6ed0-4525-be60-a07ae41bb394",
   "metadata": {},
   "outputs": [
    {
     "data": {
      "text/plain": [
       "True"
      ]
     },
     "execution_count": 36,
     "metadata": {},
     "output_type": "execute_result"
    }
   ],
   "source": [
    "dotenv.load_dotenv()"
   ]
  },
  {
   "cell_type": "code",
   "execution_count": 37,
   "id": "78e4a8cc-7be4-4897-b871-d07bbc253928",
   "metadata": {},
   "outputs": [],
   "source": [
    "review_template_str = \"\"\"Your job is to use patient\n",
    "reviews to answer questions about their experience at \n",
    "a hospital. Use the following context to answer questions.\n",
    "Be as detailed as possible, but don't make up any information\n",
    "that's not from the context. If you don't know an answer, say\n",
    "you don't know.\n",
    "\n",
    "{context}\n",
    "\"\"\""
   ]
  },
  {
   "cell_type": "code",
   "execution_count": 38,
   "id": "b1642044-0743-4de3-8efa-4421bc1237a8",
   "metadata": {},
   "outputs": [],
   "source": [
    "review_system_prompt = SystemMessagePromptTemplate(\n",
    "    prompt=PromptTemplate(\n",
    "        input_variables=[\"context\"],\n",
    "        template=review_template_str,\n",
    "    )\n",
    ")"
   ]
  },
  {
   "cell_type": "code",
   "execution_count": 39,
   "id": "f540636c-ddf7-4ad4-af4e-c243f9e9ddad",
   "metadata": {},
   "outputs": [],
   "source": [
    "review_human_prompt = HumanMessagePromptTemplate(\n",
    "    prompt = PromptTemplate(\n",
    "        input_variables=[\"question\"],\n",
    "        template=\"{question}\",\n",
    "    )\n",
    ")"
   ]
  },
  {
   "cell_type": "code",
   "execution_count": 40,
   "id": "aeed8e50-d70e-4f37-a9db-697994732aa4",
   "metadata": {},
   "outputs": [],
   "source": [
    "messages = [review_system_prompt, review_human_prompt]"
   ]
  },
  {
   "cell_type": "code",
   "execution_count": 41,
   "id": "e4774699-291c-4dd9-8712-73e2a6b39d5e",
   "metadata": {},
   "outputs": [],
   "source": [
    "review_prompt_template = ChatPromptTemplate(\n",
    "    input_variables=[\"context\", \"question\"],\n",
    "    messages=messages,\n",
    ")"
   ]
  },
  {
   "cell_type": "code",
   "execution_count": 42,
   "id": "2d6fcab7-ffaf-45c6-8826-5118a0cd5ff2",
   "metadata": {},
   "outputs": [],
   "source": [
    "chat_model = ChatOpenAI(model=\"gpt-3.5-turbo-0125\", temperature=0)"
   ]
  },
  {
   "cell_type": "code",
   "execution_count": 43,
   "id": "bb7aedea-e477-4469-8f19-a9bcefddfbc7",
   "metadata": {},
   "outputs": [],
   "source": [
    "review_chain = review_prompt_template | chat_model"
   ]
  },
  {
   "cell_type": "code",
   "execution_count": 44,
   "id": "dfabf2eb-d95e-4558-a29d-9e03089d74aa",
   "metadata": {},
   "outputs": [],
   "source": [
    "# REPL session\n",
    "#from langchain_intro.chatbot import review_chain"
   ]
  },
  {
   "cell_type": "code",
   "execution_count": 45,
   "id": "3111d060-f023-4127-9929-fc9cf069ca41",
   "metadata": {},
   "outputs": [],
   "source": [
    "context = \"I had a great stay!\"\n",
    "question = \"Did anyone have a positive experience?\""
   ]
  },
  {
   "cell_type": "code",
   "execution_count": 46,
   "id": "b3fa73fe-4d26-450a-8183-76b379f78e40",
   "metadata": {},
   "outputs": [
    {
     "data": {
      "text/plain": [
       "AIMessage(content='Yes, based on the review provided, the patient had a great stay at the hospital, indicating a positive experience.')"
      ]
     },
     "execution_count": 46,
     "metadata": {},
     "output_type": "execute_result"
    }
   ],
   "source": [
    "review_chain.invoke({\"context\": context, \"question\": question})"
   ]
  },
  {
   "cell_type": "code",
   "execution_count": 47,
   "id": "3c480fdb-612a-49bb-b72a-424630cb2bbd",
   "metadata": {},
   "outputs": [],
   "source": [
    "# Add an output parser\n",
    "from langchain_core.output_parsers import StrOutputParser"
   ]
  },
  {
   "cell_type": "code",
   "execution_count": 48,
   "id": "b3c7f55a-91ac-47d9-b074-ae9baede1217",
   "metadata": {},
   "outputs": [],
   "source": [
    "output_parser = StrOutputParser()"
   ]
  },
  {
   "cell_type": "code",
   "execution_count": 49,
   "id": "2888ac3a-1862-42b4-acd7-c59bcceb91bf",
   "metadata": {},
   "outputs": [],
   "source": [
    "review_chain = review_prompt_template | chat_model | output_parser"
   ]
  },
  {
   "cell_type": "code",
   "execution_count": 50,
   "id": "86d35608-0fe9-4845-b65f-13cf911e43c3",
   "metadata": {},
   "outputs": [
    {
     "data": {
      "text/plain": [
       "'Yes, based on the review provided, the patient had a great stay at the hospital, indicating a positive experience.'"
      ]
     },
     "execution_count": 50,
     "metadata": {},
     "output_type": "execute_result"
    }
   ],
   "source": [
    "# REPL session\n",
    "#from langchain_intro.chatbot import review_chain\n",
    "\n",
    "context = \"I had a great stay!\"\n",
    "question = \"Did anyone have a positive experience?\"\n",
    "\n",
    "review_chain.invoke({\"context\": context, \"question\": question})"
   ]
  },
  {
   "cell_type": "markdown",
   "id": "8057cb35-6957-4a13-bc71-7fe2c09ec1c5",
   "metadata": {},
   "source": [
    "## langchain_intro/create_retriever.py"
   ]
  },
  {
   "cell_type": "markdown",
   "id": "f66c7828-ba4c-42e6-9883-e0a192e1c05f",
   "metadata": {},
   "source": [
    "### Retrieval Objects"
   ]
  },
  {
   "cell_type": "code",
   "execution_count": 59,
   "id": "98e87409-c4ab-41cb-b28b-ffba27747164",
   "metadata": {},
   "outputs": [],
   "source": [
    "import dotenv\n",
    "from langchain.document_loaders.csv_loader import CSVLoader\n",
    "from langchain_community.vectorstores import Chroma\n",
    "from langchain_openai import OpenAIEmbeddings"
   ]
  },
  {
   "cell_type": "code",
   "execution_count": 60,
   "id": "7d492860-09a6-4a96-a948-d9f4b5933fdd",
   "metadata": {},
   "outputs": [],
   "source": [
    "REVIEWS_CSV_PATH = \"data/reviews.csv\"\n",
    "REVIEWS_CHROMA_PATH = \"chroma_data\""
   ]
  },
  {
   "cell_type": "code",
   "execution_count": 61,
   "id": "4322191a-c1f6-4aa0-b931-552d68af29b2",
   "metadata": {},
   "outputs": [
    {
     "data": {
      "text/plain": [
       "True"
      ]
     },
     "execution_count": 61,
     "metadata": {},
     "output_type": "execute_result"
    }
   ],
   "source": [
    "dotenv.load_dotenv()"
   ]
  },
  {
   "cell_type": "code",
   "execution_count": 62,
   "id": "9ec7111b-973c-400a-92ee-7c7fb8e3f96e",
   "metadata": {},
   "outputs": [],
   "source": [
    "loader = CSVLoader(file_path=REVIEWS_CSV_PATH, source_column=\"review\")\n",
    "reviews = loader.load()"
   ]
  },
  {
   "cell_type": "code",
   "execution_count": 65,
   "id": "28dd7b84-21a2-41d2-980d-37dec6f5a62d",
   "metadata": {},
   "outputs": [],
   "source": [
    "reviews_vector_db = Chroma.from_documents(\n",
    "    reviews, OpenAIEmbeddings(), persist_directory=REVIEWS_CHROMA_PATH\n",
    ")"
   ]
  },
  {
   "cell_type": "code",
   "execution_count": 67,
   "id": "2a922659-9efe-4beb-8a74-3c1c3192bbf8",
   "metadata": {},
   "outputs": [],
   "source": [
    "# Perform semantic search over the review embeddings\n",
    "import dotenv\n",
    "from langchain_community.vectorstores import Chroma\n",
    "from langchain_openai import OpenAIEmbeddings"
   ]
  },
  {
   "cell_type": "code",
   "execution_count": 68,
   "id": "55fb5de9-fbd5-4337-8157-c4ddb02f68fe",
   "metadata": {},
   "outputs": [],
   "source": [
    "REVIEWS_CHROMA_PATH = \"chroma_data/\""
   ]
  },
  {
   "cell_type": "code",
   "execution_count": 69,
   "id": "23e85c70-a844-48ca-8929-aee65329f648",
   "metadata": {},
   "outputs": [
    {
     "data": {
      "text/plain": [
       "True"
      ]
     },
     "execution_count": 69,
     "metadata": {},
     "output_type": "execute_result"
    }
   ],
   "source": [
    "dotenv.load_dotenv()"
   ]
  },
  {
   "cell_type": "code",
   "execution_count": 70,
   "id": "3f090d22-01da-429e-9f91-5fcfb5f1c46d",
   "metadata": {},
   "outputs": [],
   "source": [
    "reviews_vector_db = Chroma(\n",
    "    persist_directory=REVIEWS_CHROMA_PATH,\n",
    "    embedding_function=OpenAIEmbeddings(),\n",
    ")"
   ]
  },
  {
   "cell_type": "code",
   "execution_count": 71,
   "id": "0c840b7a-48b8-463d-8842-4b513dff8a04",
   "metadata": {},
   "outputs": [],
   "source": [
    "question = \"\"\"Has anyone complained about communication with the hospital staff?\"\"\"\n",
    "relevant_docs = reviews_vector_db.similarity_search(question, k=3)"
   ]
  },
  {
   "cell_type": "code",
   "execution_count": 72,
   "id": "ace1dd4b-9cc0-470a-8c02-af551b251e3d",
   "metadata": {},
   "outputs": [
    {
     "data": {
      "text/plain": [
       "'review_id: 73\\nvisit_id: 7696\\nreview: I had a frustrating experience at the hospital. The communication between the medical staff and me was unclear, leading to misunderstandings about my treatment plan. Improvement is needed in this area.\\nphysician_name: Maria Thompson\\nhospital_name: Little-Spencer\\npatient_name: Terri Smith'"
      ]
     },
     "execution_count": 72,
     "metadata": {},
     "output_type": "execute_result"
    }
   ],
   "source": [
    "relevant_docs[0].page_content"
   ]
  },
  {
   "cell_type": "code",
   "execution_count": 73,
   "id": "645a5176-daa8-4435-8ab8-380590ffecc3",
   "metadata": {},
   "outputs": [
    {
     "data": {
      "text/plain": [
       "'review_id: 785\\nvisit_id: 2593\\nreview: My stay at the hospital was challenging. The medical care was adequate, but the lack of communication from the staff created some frustration.\\nphysician_name: Brittany Harris\\nhospital_name: Jones, Taylor and Garcia\\npatient_name: Ryan Jacobs'"
      ]
     },
     "execution_count": 73,
     "metadata": {},
     "output_type": "execute_result"
    }
   ],
   "source": [
    "relevant_docs[1].page_content"
   ]
  },
  {
   "cell_type": "code",
   "execution_count": 74,
   "id": "f412b56b-1f5a-4f49-a5ba-bc460cb0e1cc",
   "metadata": {},
   "outputs": [
    {
     "data": {
      "text/plain": [
       "'review_id: 521\\nvisit_id: 631\\nreview: I had a challenging time at the hospital. The medical care was adequate, but the lack of communication between the staff and me left me feeling frustrated and confused about my treatment plan.\\nphysician_name: Samantha Mendez\\nhospital_name: Richardson-Powell\\npatient_name: Kurt Gordon'"
      ]
     },
     "execution_count": 74,
     "metadata": {},
     "output_type": "execute_result"
    }
   ],
   "source": [
    "relevant_docs[2].page_content"
   ]
  },
  {
   "cell_type": "markdown",
   "id": "b287fe12-49fd-4ffe-91eb-95c84592a169",
   "metadata": {},
   "source": [
    "## langchain_intro/chatbot.py"
   ]
  },
  {
   "cell_type": "code",
   "execution_count": 53,
   "id": "26f2d2d7-2b4a-476e-9296-eea665833848",
   "metadata": {},
   "outputs": [],
   "source": [
    "import dotenv\n",
    "from langchain_openai import ChatOpenAI\n",
    "from langchain.prompts import (\n",
    "    PromptTemplate,\n",
    "    SystemMessagePromptTemplate,\n",
    "    HumanMessagePromptTemplate,\n",
    "    ChatPromptTemplate,\n",
    ")\n",
    "from langchain_core.output_parsers import StrOutputParser\n",
    "from langchain_community.vectorstores import Chroma\n",
    "from langchain_openai import OpenAIEmbeddings\n",
    "from langchain.schema.runnable import RunnablePassthrough\n",
    "from langchain.agents import (\n",
    "    create_openai_functions_agent,\n",
    "    Tool,\n",
    "    AgentExecutor,\n",
    ")\n",
    "from langchain import hub\n",
    "#from langchain_intro.tools import get_current_wait_time\n",
    "\n",
    "REVIEWS_CHROMA_PATH = \"chroma_data/\"\n",
    "\n",
    "dotenv.load_dotenv()\n",
    "\n",
    "review_template_str = \"\"\"Your job is to use patient\n",
    "reviews to answer questions about their experience at \n",
    "a hospital. Use the following context to answer questions.\n",
    "Be as detailed as possible, but don't make up any information\n",
    "that's not from the context. If you don't know an answer, say\n",
    "you don't know.\n",
    "\n",
    "{context}\n",
    "\"\"\"\n",
    "\n",
    "review_system_prompt = SystemMessagePromptTemplate(\n",
    "    prompt=PromptTemplate(\n",
    "        input_variables=[\"context\"],\n",
    "        template=review_template_str,\n",
    "    )\n",
    ")\n",
    "\n",
    "review_human_prompt = HumanMessagePromptTemplate(\n",
    "    prompt = PromptTemplate(\n",
    "        input_variables=[\"question\"],\n",
    "        template=\"{question}\",\n",
    "    )\n",
    ")\n",
    "\n",
    "messages = [review_system_prompt, review_human_prompt]\n",
    "\n",
    "review_prompt_template = ChatPromptTemplate(\n",
    "    input_variables=[\"context\", \"question\"],\n",
    "    messages=messages,\n",
    ")\n",
    "\n",
    "chat_model = ChatOpenAI(model=\"gpt-3.5-turbo-0125\", temperature=0)\n",
    "\n",
    "reviews_vector_db = Chroma(\n",
    "    persist_directory=REVIEWS_CHROMA_PATH,\n",
    "    embedding_function=OpenAIEmbeddings()\n",
    ")\n",
    "\n",
    "reviews_retriever = reviews_vector_db.as_retriever(k=10)\n",
    "\n",
    "review_chain = (\n",
    "    {\"context\": reviews_retriever, \"question\": RunnablePassthrough()}\n",
    "    | review_prompt_template\n",
    "    | chat_model\n",
    "    | StrOutputParser()\n",
    ")\n",
    "\n",
    "tools = [\n",
    "    Tool(\n",
    "        name=\"Reviews\",\n",
    "        func=review_chain.invoke,\n",
    "        description=\"\"\"Useful when you need to answer questions\n",
    "        about patient reviews or experiences at the hospital.\n",
    "        Not useful for answering questions about specific visit \n",
    "        details such as payer, billing, treatment, diagnosis,\n",
    "        chief complaint, hospital, or physician information.\n",
    "        Pass the entire question as input to the tool. For instance,\n",
    "        if the question is \"What do patients think about the triage system?\",\n",
    "        the input should be \"What do patients think about the triage system?\"\n",
    "        \"\"\",\n",
    "    ),\n",
    "    Tool(\n",
    "        name=\"Waits\",\n",
    "        func=get_current_wait_time,\n",
    "        description=\"\"\"Use when asked about current wait times\n",
    "        at a specific hospital. This tool can only get the current\n",
    "        wait time at a hospital and does not have any information about \n",
    "        aggregate or historical wait times. This tool returns wait times in\n",
    "        minutes. Do not pass the word \"hospital\" as input,\n",
    "        only the hospital name itself. For instance, if the questions is\n",
    "        \"What is the wait time at hospital A?\", the input should be \"A\".\n",
    "        \"\"\",\n",
    "    ),\n",
    "]\n",
    "\n",
    "hospital_agent_prompt = hub.pull(\"hwchase17/openai-functions-agent\")\n",
    "\n",
    "agent_chat_model = ChatOpenAI(\n",
    "    model=\"gpt-3.5-turbo-1106\",\n",
    "    temperature=0,\n",
    ")\n",
    "\n",
    "hospital_agent = create_openai_functions_agent(\n",
    "    llm=agent_chat_model,\n",
    "    prompt=hospital_agent_prompt,\n",
    "    tools=tools,\n",
    ")\n",
    "\n",
    "hospital_agent_executor = AgentExecutor(\n",
    "    agent=hospital_agent,\n",
    "    tools=tools,\n",
    "    return_intermediate_steps=True,\n",
    "    verbose=True,\n",
    ")"
   ]
  },
  {
   "cell_type": "markdown",
   "id": "02c0a92c-70ac-4071-941e-db7ee9ff1ee1",
   "metadata": {},
   "source": [
    "## Agents"
   ]
  },
  {
   "cell_type": "markdown",
   "id": "a4506858-6888-4ab6-96f4-eee89aa98c44",
   "metadata": {},
   "source": [
    "### langchain_intro/tools.py"
   ]
  },
  {
   "cell_type": "code",
   "execution_count": 54,
   "id": "9824630e-2148-4e26-83e5-037436809582",
   "metadata": {},
   "outputs": [],
   "source": [
    "import random\n",
    "import time\n",
    "\n",
    "def get_current_wait_time(hospital: str) -> int | str:\n",
    "    \"\"\"Dummy function to generate fake wait times\"\"\"\n",
    "\n",
    "    if hospital not in [\"A\", \"B\", \"C\", \"D\"]:\n",
    "        return f\"Hospital {hospital} does not exist\"\n",
    "\n",
    "    # Simulate API call delay\n",
    "    time.sleep(1)\n",
    "\n",
    "    return random.randint(0, 10000)"
   ]
  },
  {
   "cell_type": "code",
   "execution_count": null,
   "id": "1275c289-efd0-4d68-ae78-04d483d117ab",
   "metadata": {},
   "outputs": [],
   "source": []
  }
 ],
 "metadata": {
  "kernelspec": {
   "display_name": "Python 3 (ipykernel)",
   "language": "python",
   "name": "python3"
  },
  "language_info": {
   "codemirror_mode": {
    "name": "ipython",
    "version": 3
   },
   "file_extension": ".py",
   "mimetype": "text/x-python",
   "name": "python",
   "nbconvert_exporter": "python",
   "pygments_lexer": "ipython3",
   "version": "3.12.4"
  }
 },
 "nbformat": 4,
 "nbformat_minor": 5
}
